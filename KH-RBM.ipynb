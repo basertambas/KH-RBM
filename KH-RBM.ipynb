{
 "cells": [
  {
   "cell_type": "code",
   "execution_count": null,
   "id": "d6d6b858-5b08-4b3b-8e7f-dd5eae2fe0ba",
   "metadata": {},
   "outputs": [],
   "source": [
    "###############################################\n",
    "## Import necessary libraries and files\n",
    "###############################################\n",
    "import numpy as np\n",
    "import cupy as cp\n",
    "import matplotlib.pyplot as plt\n",
    "from skimage.metrics import structural_similarity as ssim\n",
    "import time\n",
    "import sys\n",
    "from rbm import RBM\n",
    "from aux import binarize_data"
   ]
  },
  {
   "cell_type": "code",
   "execution_count": null,
   "id": "29d50cf4-2340-4d86-a169-2ef13ba6d96f",
   "metadata": {},
   "outputs": [],
   "source": [
    "###############################################\n",
    "## Control Panel\n",
    "###############################################\n",
    "\n",
    "# hyperparameters of the RBM\n",
    "hyper = ['mnist', 'hKH', 'lecun', 2e-3, 0.7, 100]\n",
    "\n",
    "addrss = 'paper/'\n",
    "label = 'p1.5decay'\n",
    "#dataset = sys.argv[1]        #{'mnist','kmnist'} --dataset\n",
    "dataset = hyper[0]            #{'mnist','kmnist'} --dataset\n",
    "#KH = sys.argv[2]             #{None, 'hKH', 'vKH', 'hvKH'} --KH Modulation approach\n",
    "KH = hyper[1]                 #{None, 'hKH', 'vKH', 'hvKH'} --KH Modulation approach\n",
    "training = 'CD'               #{'CD', 'PCD'} --training algorithm of the RBM\n",
    "k = 1                         # number of Gibbs sampling steps\n",
    "epochs = 500                  # number of epochs (S)\n",
    "#W_init = sys.argv[3]         #{'lecun', 'std'} --weight initialization\n",
    "W_init = hyper[2]             #{'lecun', 'std'} --weight initialization\n",
    "#eps0 = float(sys.argv[4])    # KH learning rate\n",
    "eps0 = hyper[3]               # KH learning rate\n",
    "eps_d = True                  #{False, True} -- decays with a polynomial eps0*(1- t/epochs)^(3/2)\n",
    "#delta = float(sys.argv[5])   # KH penalty term\n",
    "delta = hyper[4]              # KH penalty term\n",
    "seed = 1234                   # random seed\n",
    "p = 2.0                       # KH Lebesgue power\n",
    "l = 2                         # KH ranking parameter l >= 2\n",
    "if W_init == 'std':\n",
    "    R = 1.0                   # Lebesgue p norm radius\n",
    "else:\n",
    "    R = 0.1                   # Lebesgue p norm radius\n",
    "batch_size = 100\n",
    "eta = 1e-1                    # learning rate of the RBM\n",
    "N = 784                       # number of visible units\n",
    "#M = int(sys.argv[6])         # number of hidden units\n",
    "M = hyper[5]                  # number of hidden units\n",
    "\n",
    "###############################################\n",
    "## Loading and preprocessing dataset\n",
    "###############################################\n",
    "\n",
    "path = '/kuacc/users/hpc-btambas/class/'\n",
    "\n",
    "load_data = np.load(path+dataset+'.npz')\n",
    "train_data = load_data['tr_data']\n",
    "valid_data = load_data['vl_data']\n",
    "test_data = load_data['t_data']\n",
    "\n",
    "train_data = np.concatenate((train_data,valid_data))\n",
    "\n",
    "X_train = binarize_data(train_data)\n",
    "X_valid = binarize_data(test_data)\n",
    "\n",
    "X_train = cp.array(X_train)\n",
    "X_valid = cp.array(X_valid)"
   ]
  },
  {
   "cell_type": "code",
   "execution_count": null,
   "id": "0a716451-001d-4880-abe2-a8215b258f7e",
   "metadata": {},
   "outputs": [],
   "source": [
    "start_time = time.time()\n",
    "cp.random.seed(seed)\n",
    "rbm = RBM(N=N,M=M,eta=eta,batch_size=batch_size,W_init=W_init)\n",
    "rbm.train(X_train,X_valid, epochs=epochs,incr=incr, k=k,training=training,KH=KH,R=R,l=l,delta=delta, p=p,eps0=eps0,\n",
    "          label=label,addrss=addrss,save_checkpoints=False,track_learning=True,save_learn_funcs=True,save_params=True,\n",
    "          plot_weights=False,eps_d=eps_d,dataset=dataset,seed=seed)\n",
    "end_time = time.time()  # Record the end time for the entire training process\n",
    "total_training_time = end_time - start_time\n",
    "print('Total training time: %.2f seconds' % total_training_time)"
   ]
  }
 ],
 "metadata": {
  "kernelspec": {
   "display_name": "pytorch_env",
   "language": "python",
   "name": "pytorch_env"
  },
  "language_info": {
   "codemirror_mode": {
    "name": "ipython",
    "version": 3
   },
   "file_extension": ".py",
   "mimetype": "text/x-python",
   "name": "python",
   "nbconvert_exporter": "python",
   "pygments_lexer": "ipython3",
   "version": "3.10.9"
  }
 },
 "nbformat": 4,
 "nbformat_minor": 5
}
