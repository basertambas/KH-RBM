{
 "cells": [
  {
   "cell_type": "code",
   "execution_count": 18,
   "id": "d6d6b858-5b08-4b3b-8e7f-dd5eae2fe0ba",
   "metadata": {},
   "outputs": [],
   "source": [
    "###############################################\n",
    "## Import necessary libraries and files\n",
    "###############################################\n",
    "import numpy as np\n",
    "try:\n",
    "    import cupy\n",
    "    if cupy.cuda.is_available():\n",
    "        np = cupy\n",
    "except:\n",
    "    pass\n",
    "#import cupy as cp\n",
    "import matplotlib.pyplot as plt\n",
    "from skimage.metrics import structural_similarity as ssim\n",
    "import time\n",
    "import sys\n",
    "from rbm import RBM\n",
    "from aux import binarize_data"
   ]
  },
  {
   "cell_type": "code",
   "execution_count": 22,
   "id": "9ca05278-b62c-4e74-861a-61b30353f626",
   "metadata": {},
   "outputs": [],
   "source": [
    "###############################################\n",
    "## Control Panel\n",
    "###############################################\n",
    "\n",
    "# hyperparameters of the RBM\n",
    "hyper = ['mnist', 'hKH', 'lecun', 2e-3, 0.7, 100]\n",
    "\n",
    "addrss = 'out/'\n",
    "label = 'p1.5decay'\n",
    "#dataset = sys.argv[1]        #{'mnist','kmnist'} --dataset\n",
    "dataset = hyper[0]            #{'mnist','kmnist'} --dataset\n",
    "#KH = sys.argv[2]             #{None, 'hKH', 'vKH', 'hvKH'} --KH Modulation approach\n",
    "KH = hyper[1]                 #{None, 'hKH', 'vKH', 'hvKH'} --KH Modulation approach\n",
    "training = 'CD'               #{'CD', 'PCD'} --training algorithm of the RBM\n",
    "k = 1                         # number of Gibbs sampling steps\n",
    "epochs = 1                  # number of epochs (S)\n",
    "#W_init = sys.argv[3]         #{'lecun', 'std'} --weight initialization\n",
    "W_init = hyper[2]             #{'lecun', 'std'} --weight initialization\n",
    "#eps0 = float(sys.argv[4])    # KH learning rate\n",
    "eps0 = hyper[3]               # KH learning rate\n",
    "eps_d = True                  #{False, True} -- decays with a polynomial eps0*(1- t/epochs)^(3/2)\n",
    "#delta = float(sys.argv[5])   # KH penalty term\n",
    "delta = hyper[4]              # KH penalty term\n",
    "seed = 1234                   # random seed\n",
    "p = 2.0                       # KH Lebesgue power\n",
    "l = 2                         # KH ranking parameter l >= 2\n",
    "if W_init == 'std':\n",
    "    R = 1.0                   # Lebesgue p norm radius\n",
    "else:\n",
    "    R = 0.1                   # Lebesgue p norm radius\n",
    "batch_size = 100\n",
    "eta = 1e-1                    # learning rate of the RBM\n",
    "N = 784                       # number of visible units\n",
    "#M = int(sys.argv[6])         # number of hidden units\n",
    "M = hyper[5]                  # number of hidden units"
   ]
  },
  {
   "cell_type": "code",
   "execution_count": 23,
   "id": "c33c9ba5-b811-4492-9c83-6cdaff36c38a",
   "metadata": {},
   "outputs": [
    {
     "name": "stdout",
     "output_type": "stream",
     "text": [
      "Training Images Shape: (50000, 784)\n",
      "Training Labels Shape: (50000,)\n",
      "Validation Images Shape: (10000, 784)\n",
      "Validation Labels Shape: (10000,)\n",
      "Test Images Shape: (10000, 784)\n",
      "Test Labels Shape: (10000,)\n"
     ]
    }
   ],
   "source": [
    "import tensorflow\n",
    "# Load MNIST dataset\n",
    "# mnist = mnist\n",
    "(train_data, train_labels), (test_data, test_labels) = tensorflow.keras.datasets.mnist.load_data()\n",
    "\n",
    "train_data = np.array(train_data).astype(np.float32)\n",
    "test_data = np.array(test_data).astype(np.float32)\n",
    "\n",
    "train_labels = np.array(train_labels)\n",
    "test_labels = np.array(test_labels)\n",
    "\n",
    "# Get indices for random shuffling\n",
    "indices = np.arange(len(train_data))\n",
    "np.random.shuffle(indices)\n",
    "\n",
    "# Use the shuffled indices to split the dataset\n",
    "#split_index = int(0.8 * len(train_images))\n",
    "split_index = 50000\n",
    "train_indices, val_indices = indices[:split_index], indices[split_index:]\n",
    "\n",
    "# Split the dataset\n",
    "train_data, valid_data = train_data[train_indices], train_data[val_indices]\n",
    "train_labels, valid_labels = train_labels[train_indices], train_labels[val_indices]\n",
    "\n",
    "train_data = train_data.reshape(len(train_data),int(train_data.shape[1]*train_data.shape[2]))\n",
    "valid_data = valid_data.reshape(len(valid_data),int(valid_data.shape[1]*valid_data.shape[2]))\n",
    "test_data = test_data.reshape(len(test_data),int(test_data.shape[1]*test_data.shape[2]))\n",
    "\n",
    "print(\"Training Images Shape:\", train_data.shape)\n",
    "print(\"Training Labels Shape:\", train_labels.shape)\n",
    "print(\"Validation Images Shape:\", valid_data.shape)\n",
    "print(\"Validation Labels Shape:\", valid_labels.shape)\n",
    "print(\"Test Images Shape:\", test_data.shape)\n",
    "print(\"Test Labels Shape:\", test_labels.shape)"
   ]
  },
  {
   "cell_type": "code",
   "execution_count": 24,
   "id": "978ea873-4089-4a48-b009-177a638ee8b4",
   "metadata": {},
   "outputs": [],
   "source": [
    "###############################################\n",
    "## Loading and preprocessing dataset\n",
    "###############################################\n",
    "\n",
    "#path = './'\n",
    "\n",
    "#load_data = np.load(path+dataset+'.npz')\n",
    "#train_data = load_data['tr_data']\n",
    "#valid_data = load_data['vl_data']\n",
    "#test_data = load_data['t_data']\n",
    "\n",
    "train_data = np.concatenate((train_data,valid_data))\n",
    "\n",
    "X_train = binarize_data(train_data)\n",
    "X_valid = binarize_data(test_data)\n",
    "\n",
    "X_train = np.array(X_train)\n",
    "X_valid = np.array(X_valid)"
   ]
  },
  {
   "cell_type": "code",
   "execution_count": 25,
   "id": "0a716451-001d-4880-abe2-a8215b258f7e",
   "metadata": {},
   "outputs": [
    {
     "name": "stdout",
     "output_type": "stream",
     "text": [
      "Total training time: 37.47 seconds\n"
     ]
    }
   ],
   "source": [
    "start_time = time.time()\n",
    "cp.random.seed(seed)\n",
    "rbm = RBM(N=N,M=M,eta=eta,batch_size=batch_size,W_init=W_init)\n",
    "rbm.train(X_train,X_valid, epochs=epochs, k=k,training=training,KH=KH,R=R,l=l,delta=delta, p=p,eps0=eps0,\n",
    "          label=label,addrss=addrss,save_checkpoints=False,track_learning=True,save_learn_funcs=True,save_params=True,\n",
    "          plot_weights=False,eps_d=eps_d,dataset=dataset,seed=seed)\n",
    "end_time = time.time()  # Record the end time for the entire training process\n",
    "total_training_time = end_time - start_time\n",
    "print('Total training time: %.2f seconds' % total_training_time)"
   ]
  },
  {
   "cell_type": "code",
   "execution_count": null,
   "id": "db3a271a-d34a-455c-8775-d3e14b233828",
   "metadata": {},
   "outputs": [],
   "source": []
  },
  {
   "cell_type": "code",
   "execution_count": null,
   "id": "7622c9d4-5dad-461f-b13d-235075d884ee",
   "metadata": {},
   "outputs": [],
   "source": []
  }
 ],
 "metadata": {
  "kernelspec": {
   "display_name": "Python 3 (ipykernel)",
   "language": "python",
   "name": "python3"
  },
  "language_info": {
   "codemirror_mode": {
    "name": "ipython",
    "version": 3
   },
   "file_extension": ".py",
   "mimetype": "text/x-python",
   "name": "python",
   "nbconvert_exporter": "python",
   "pygments_lexer": "ipython3",
   "version": "3.12.5"
  }
 },
 "nbformat": 4,
 "nbformat_minor": 5
}
