{
 "cells": [
  {
   "cell_type": "code",
   "execution_count": 1,
   "id": "83be4f8f-401d-4e04-96f3-d46acf50c2ed",
   "metadata": {},
   "outputs": [],
   "source": [
    "###############################################\n",
    "## Import necessary libraries and files\n",
    "###############################################\n",
    "import numpy as cp\n",
    "try:\n",
    "    import cupy\n",
    "    if cupy.cuda.is_available():\n",
    "        cp = cupy\n",
    "except:\n",
    "    pass\n",
    "import matplotlib.pyplot as plt\n",
    "import time\n",
    "import sys\n",
    "from class_rbm import class_RBM\n",
    "from aux import binarize_data\n",
    "from aux import get_dataset\n",
    "from aux import load_acc"
   ]
  },
  {
   "cell_type": "code",
   "execution_count": null,
   "id": "cb2f2a42-51aa-4fb1-95e9-82ed622d06c2",
   "metadata": {},
   "outputs": [
    {
     "name": "stderr",
     "output_type": "stream",
     "text": [
      "2024-09-10 18:34:03.917527: I tensorflow/core/platform/cpu_feature_guard.cc:182] This TensorFlow binary is optimized to use available CPU instructions in performance-critical operations.\n",
      "To enable the following instructions: SSE4.1 SSE4.2 AVX AVX2 FMA, in other operations, rebuild TensorFlow with the appropriate compiler flags.\n",
      "2024-09-10 18:34:06.054368: I tensorflow/core/common_runtime/process_util.cc:146] Creating new thread pool with default inter op setting: 2. Tune using inter_op_parallelism_threads for best performance.\n",
      "2024-09-10 18:34:06.186112: I tensorflow/core/common_runtime/executor.cc:1197] [/device:CPU:0] (DEBUG INFO) Executor start aborting (this does not indicate an error and you can ignore this message): INVALID_ARGUMENT: You must feed a value for placeholder tensor 'Placeholder/_4' with dtype int64 and shape [1]\n",
      "\t [[{{node Placeholder/_4}}]]\n",
      "2024-09-10 18:34:06.186572: I tensorflow/core/common_runtime/executor.cc:1197] [/device:CPU:0] (DEBUG INFO) Executor start aborting (this does not indicate an error and you can ignore this message): INVALID_ARGUMENT: You must feed a value for placeholder tensor 'Placeholder/_1' with dtype string and shape [1]\n",
      "\t [[{{node Placeholder/_1}}]]\n"
     ]
    }
   ],
   "source": [
    "###############################################\n",
    "## Control Panel\n",
    "###############################################\n",
    "\n",
    "model = {\n",
    "    'N':784,                  # number of visible units\n",
    "    'M':100,                  # number of hidden units\n",
    "    'eta':0.1,                # learning rate of the RBM\n",
    "    'batch_size':100,         # batch size\n",
    "    'W_init':'lecun',         #{'lecun', 'std'} --weight initialization\n",
    "    'n_cl': 10                # number of classes (C)\n",
    "}\n",
    "\n",
    "training_settings = {\n",
    "'dataset': 'mnist',            #{'mnist','kmnist'} --dataset\n",
    "'KH': 'hKH  ',                 #{None, 'hKH', 'vKH', 'hvKH'} --KH Modulation approach\n",
    "'training': 'CD',              #{'CD', 'PCD'} --training algorithm of the RBM\n",
    "'k': 1,                        # number of Gibbs sampling steps\n",
    "'epochs': 3,                   # number of epochs (S)\n",
    "'eps0': 4e-2,                  # KH learning rate\n",
    "'eps_d': True,                 #{False, True} -- decays with a polynomial eps0*(1- t/epochs)^(3/2)\n",
    "'delta': 0.4,                  # KH penalty term\n",
    "'p': 2.0,                      # KH Lebesgue power\n",
    "'l': 2,                        # KH ranking parameter l >= 2\n",
    "'R': 1.0 if model['W_init'] == 'std' else 0.1, # Lebesgue p norm radius\n",
    "'seed': 1234,                  # random seed\n",
    "'addrss': '', #'out/'\n",
    "'label': 'p1.5decay'\n",
    "}\n",
    "###############################################\n",
    "## Loading and preprocessing dataset\n",
    "###############################################\n",
    "\n",
    "train_data, valid_data, test_data, train_labels, valid_labels, test_labels = get_dataset(dataset=training_settings['dataset'])\n",
    "\n",
    "try:\n",
    "    if cp == cupy:\n",
    "        train_data = cp.asarray(train_data)\n",
    "        valid_data = cp.asarray(valid_data)\n",
    "        test_data = cp.asarray(test_data)\n",
    "        train_labels = cp.asarray(train_labels)\n",
    "        valid_labels = cp.asarray(valid_labels)\n",
    "        test_labels = cp.asarray(test_labels)\n",
    "except:\n",
    "    pass\n",
    "\n",
    "train_data = cp.concatenate((train_data,valid_data))\n",
    "train_labels = cp.concatenate((train_labels,valid_labels))\n",
    "\n",
    "# data binarization\n",
    "X_train = binarize_data(train_data)\n",
    "X_test = binarize_data(test_data)\n",
    "\n",
    "\n",
    "X_train = cp.concatenate((X_train,train_labels),axis=1)\n",
    "X_test = cp.concatenate((X_test,test_labels),axis=1)"
   ]
  },
  {
   "cell_type": "code",
   "execution_count": 3,
   "id": "d2b9de45-2b48-46cc-ab17-aa9ce2789547",
   "metadata": {},
   "outputs": [
    {
     "ename": "NameError",
     "evalue": "name 'eta' is not defined",
     "output_type": "error",
     "traceback": [
      "\u001b[0;31m---------------------------------------------------------------------------\u001b[0m",
      "\u001b[0;31mNameError\u001b[0m                                 Traceback (most recent call last)",
      "Cell \u001b[0;32mIn[3], line 3\u001b[0m\n\u001b[1;32m      1\u001b[0m start_time \u001b[38;5;241m=\u001b[39m time\u001b[38;5;241m.\u001b[39mtime()\n\u001b[1;32m      2\u001b[0m cp\u001b[38;5;241m.\u001b[39mrandom\u001b[38;5;241m.\u001b[39mseed(seed\u001b[38;5;241m=\u001b[39mtraining_settings[\u001b[38;5;124m'\u001b[39m\u001b[38;5;124mseed\u001b[39m\u001b[38;5;124m'\u001b[39m])\n\u001b[0;32m----> 3\u001b[0m rbm \u001b[38;5;241m=\u001b[39m \u001b[43mclass_RBM\u001b[49m\u001b[43m(\u001b[49m\u001b[43mmodel\u001b[49m\u001b[43m)\u001b[49m\n\u001b[1;32m      4\u001b[0m rbm\u001b[38;5;241m.\u001b[39mtrain(X_train,X_test,training_settings,incr\u001b[38;5;241m=\u001b[39m\u001b[38;5;241m1\u001b[39m,save_checkpoints\u001b[38;5;241m=\u001b[39m\u001b[38;5;28;01mFalse\u001b[39;00m,track_learning\u001b[38;5;241m=\u001b[39m\u001b[38;5;28;01mTrue\u001b[39;00m,save_learn_funcs\u001b[38;5;241m=\u001b[39m\u001b[38;5;28;01mTrue\u001b[39;00m,\n\u001b[1;32m      5\u001b[0m           save_params\u001b[38;5;241m=\u001b[39m\u001b[38;5;28;01mTrue\u001b[39;00m,plot_weights\u001b[38;5;241m=\u001b[39m\u001b[38;5;28;01mTrue\u001b[39;00m)\n\u001b[1;32m      6\u001b[0m end_time \u001b[38;5;241m=\u001b[39m time\u001b[38;5;241m.\u001b[39mtime()  \u001b[38;5;66;03m# Record the end time for the entire training process\u001b[39;00m\n",
      "File \u001b[0;32m~/Desktop/KH-RBM_git/v3/class_rbm.py:27\u001b[0m, in \u001b[0;36mclass_RBM.__init__\u001b[0;34m(self, model)\u001b[0m\n\u001b[1;32m     25\u001b[0m \u001b[38;5;28mself\u001b[39m\u001b[38;5;241m.\u001b[39ma \u001b[38;5;241m=\u001b[39m cp\u001b[38;5;241m.\u001b[39mzeros((\u001b[38;5;28mself\u001b[39m\u001b[38;5;241m.\u001b[39mN\u001b[38;5;241m+\u001b[39m\u001b[38;5;28mself\u001b[39m\u001b[38;5;241m.\u001b[39mn_cl))\n\u001b[1;32m     26\u001b[0m \u001b[38;5;28mself\u001b[39m\u001b[38;5;241m.\u001b[39mb \u001b[38;5;241m=\u001b[39m cp\u001b[38;5;241m.\u001b[39mzeros((\u001b[38;5;28mself\u001b[39m\u001b[38;5;241m.\u001b[39mM))\n\u001b[0;32m---> 27\u001b[0m \u001b[38;5;28mself\u001b[39m\u001b[38;5;241m.\u001b[39meta \u001b[38;5;241m=\u001b[39m \u001b[43meta\u001b[49m\n\u001b[1;32m     28\u001b[0m \u001b[38;5;28mself\u001b[39m\u001b[38;5;241m.\u001b[39mbatch_size \u001b[38;5;241m=\u001b[39m batch_size\n\u001b[1;32m     29\u001b[0m \u001b[38;5;28mself\u001b[39m\u001b[38;5;241m.\u001b[39mpersistent_hidden_states \u001b[38;5;241m=\u001b[39m cp\u001b[38;5;241m.\u001b[39mrandom\u001b[38;5;241m.\u001b[39mrandint(\u001b[38;5;241m0\u001b[39m, \u001b[38;5;241m2\u001b[39m, size\u001b[38;5;241m=\u001b[39m(\u001b[38;5;28mself\u001b[39m\u001b[38;5;241m.\u001b[39mbatch_size,\u001b[38;5;28mself\u001b[39m\u001b[38;5;241m.\u001b[39mM))\n",
      "\u001b[0;31mNameError\u001b[0m: name 'eta' is not defined"
     ]
    }
   ],
   "source": [
    "start_time = time.time()\n",
    "cp.random.seed(seed=training_settings['seed'])\n",
    "rbm = class_RBM(model)\n",
    "rbm.train(X_train,X_test,training_settings,incr=1,save_checkpoints=False,track_learning=True,save_learn_funcs=True,\n",
    "          save_params=True,plot_weights=True)\n",
    "end_time = time.time()  # Record the end time for the entire training process\n",
    "total_training_time = end_time - start_time\n",
    "print('Total training time: %.2f seconds' % total_training_time)"
   ]
  },
  {
   "cell_type": "code",
   "execution_count": 4,
   "id": "6768f7c3-6727-421e-856e-3449d580b0dc",
   "metadata": {
    "tags": []
   },
   "outputs": [
    {
     "data": {
      "text/plain": [
       "array([0.8665, 0.8861, 0.8956])"
      ]
     },
     "execution_count": 4,
     "metadata": {},
     "output_type": "execute_result"
    }
   ],
   "source": [
    "r = load_acc(model,training_settings)\n",
    "r"
   ]
  }
 ],
 "metadata": {
  "kernelspec": {
   "display_name": "pytorch_env",
   "language": "python",
   "name": "pytorch_env"
  },
  "language_info": {
   "codemirror_mode": {
    "name": "ipython",
    "version": 3
   },
   "file_extension": ".py",
   "mimetype": "text/x-python",
   "name": "python",
   "nbconvert_exporter": "python",
   "pygments_lexer": "ipython3",
   "version": "3.10.9"
  }
 },
 "nbformat": 4,
 "nbformat_minor": 5
}
